{
 "cells": [
  {
   "cell_type": "code",
   "execution_count": 1,
   "metadata": {},
   "outputs": [],
   "source": [
    "import networkx as nx\n",
    "import numpy as np\n",
    "import itertools"
   ]
  },
  {
   "cell_type": "code",
   "execution_count": 2,
   "metadata": {},
   "outputs": [],
   "source": [
    "a=np.load(\"UUU-top1000-5frag-4A.npz\")\n",
    "interactions = [a['interactions-%i'%i] for i in range(4)]"
   ]
  },
  {
   "cell_type": "markdown",
   "metadata": {},
   "source": [
    "# Renomage, pour networkx\n",
    "Sous la forme \"ID_level\" (ex. noeud 3 du niveau 0 : \"3_0\")"
   ]
  },
  {
   "cell_type": "code",
   "execution_count": 3,
   "metadata": {},
   "outputs": [],
   "source": [
    "interactions_nn = []"
   ]
  },
  {
   "cell_type": "code",
   "execution_count": 4,
   "metadata": {
    "scrolled": true
   },
   "outputs": [],
   "source": [
    "for int_level in range(len(interactions)):\n",
    "    curIntLevel = []\n",
    "    for int_pair in range(interactions[int_level].shape[0]):\n",
    "        curIntLevel.append([str(interactions[int_level][int_pair][0]) + \"_\" + str(int_level),\n",
    "                            str(interactions[int_level][int_pair][1]) + \"_\" + str(int_level+1)])\n",
    "\n",
    "    interactions_nn.append(curIntLevel)"
   ]
  },
  {
   "cell_type": "markdown",
   "metadata": {},
   "source": [
    "# Création du graph"
   ]
  },
  {
   "cell_type": "code",
   "execution_count": 5,
   "metadata": {},
   "outputs": [
    {
     "data": {
      "text/plain": [
       "(1312, 7823)"
      ]
     },
     "execution_count": 5,
     "metadata": {},
     "output_type": "execute_result"
    }
   ],
   "source": [
    "DG = nx.DiGraph()\n",
    "for int_level in range(len(interactions_nn)):\n",
    "    for edge in interactions_nn[int_level]:\n",
    "        DG.add_edge(*edge)\n",
    "DG.number_of_nodes(), DG.number_of_edges()"
   ]
  },
  {
   "cell_type": "code",
   "execution_count": 6,
   "metadata": {},
   "outputs": [],
   "source": [
    "unique_input_id = np.unique(interactions[0][:,0])\n",
    "unique_output_id = np.unique(interactions[3][:,1])\n",
    "\n",
    "unique_input_node = [i for i in DG.nodes() if \"_0\" in i]\n",
    "unique_output_node = [i for i in DG.nodes() if \"_4\" in i]"
   ]
  },
  {
   "cell_type": "markdown",
   "metadata": {},
   "source": [
    "# Exploration \"dynamique\""
   ]
  },
  {
   "cell_type": "markdown",
   "metadata": {},
   "source": [
    "Sans mémoire du meilleur parcours (Lent, ~500ms)"
   ]
  },
  {
   "cell_type": "code",
   "execution_count": 7,
   "metadata": {},
   "outputs": [
    {
     "data": {
      "text/plain": [
       "565507"
      ]
     },
     "execution_count": 7,
     "metadata": {},
     "output_type": "execute_result"
    }
   ],
   "source": [
    "def countPath_old(node, DG):\n",
    "    if len(list(DG.successors(node))) == 0:\n",
    "        return 1\n",
    "    else:\n",
    "        return sum([countPath_old(p_node, DG) for p_node in DG.successors(node)])\n",
    "    \n",
    "#print(DG.successors(unique_input_node[0]), len(list(DG.successors(unique_input_node[0]))))\n",
    "sum([countPath_old(start_node, DG) for start_node in unique_input_node])"
   ]
  },
  {
   "cell_type": "code",
   "execution_count": 8,
   "metadata": {},
   "outputs": [
    {
     "name": "stdout",
     "output_type": "stream",
     "text": [
      "479 ms ± 7.18 ms per loop (mean ± std. dev. of 10 runs, 10 loops each)\n"
     ]
    }
   ],
   "source": [
    "%%timeit -n 10 -r 10\n",
    "sum([countPath_old(start_node, DG) for start_node in unique_input_node])"
   ]
  },
  {
   "cell_type": "markdown",
   "metadata": {},
   "source": [
    "Avec mémoire du meilleur parcours (Rapide, ~15ms)"
   ]
  },
  {
   "cell_type": "code",
   "execution_count": 9,
   "metadata": {},
   "outputs": [
    {
     "data": {
      "text/plain": [
       "565507"
      ]
     },
     "execution_count": 9,
     "metadata": {},
     "output_type": "execute_result"
    }
   ],
   "source": [
    "def initCount(DG):\n",
    "    for node in DG.nodes:\n",
    "        DG.nodes[node]['count_path_value'] = -1\n",
    "\n",
    "def countPath(node, DG):\n",
    "    if DG.nodes[node]['count_path_value'] == -1:\n",
    "        if len(list(DG.successors(node))) == 0:\n",
    "            DG.nodes[node]['count_path_value']  = 1\n",
    "        else:\n",
    "            DG.nodes[node]['count_path_value']  = sum([countPath(p_node, DG) for p_node in DG.successors(node)])\n",
    "    return DG.nodes[node]['count_path_value']\n",
    "\n",
    "initCount(DG)\n",
    "sum([countPath(start_node, DG) for start_node in unique_input_node])"
   ]
  },
  {
   "cell_type": "code",
   "execution_count": 10,
   "metadata": {},
   "outputs": [
    {
     "name": "stdout",
     "output_type": "stream",
     "text": [
      "16.3 ms ± 944 µs per loop (mean ± std. dev. of 10 runs, 10 loops each)\n"
     ]
    }
   ],
   "source": [
    "%%timeit -n 10 -r 10\n",
    "initCount(DG)\n",
    "sum([countPath(start_node, DG) for start_node in unique_input_node])"
   ]
  },
  {
   "cell_type": "markdown",
   "metadata": {},
   "source": [
    "# Bonus"
   ]
  },
  {
   "cell_type": "code",
   "execution_count": 13,
   "metadata": {
    "scrolled": true
   },
   "outputs": [
    {
     "data": {
      "text/plain": [
       "(['39_0', '101_1', '74_2', '98_3', '106_4'], 418)"
      ]
     },
     "execution_count": 13,
     "metadata": {},
     "output_type": "execute_result"
    }
   ],
   "source": [
    "def initPath(DG):\n",
    "    for node in DG.nodes:\n",
    "        DG.nodes[node]['bestSuccessor'] = None\n",
    "        DG.nodes[node]['bestPath'] = []\n",
    "        DG.nodes[node]['bestPath_value'] = 0\n",
    "        DG.nodes[node]['node_value'] = int(node.split(\"_\")[0])\n",
    "        \n",
    "def bestPath(node, DG):\n",
    "    if DG.nodes[node]['bestSuccessor'] == None:\n",
    "        if len(list(DG.successors(node))) == 0:\n",
    "            DG.nodes[node]['bestSuccessor'] = (DG.nodes[node]['node_value'], node)\n",
    "            DG.nodes[node]['bestPath_value'] = DG.nodes[node]['node_value']\n",
    "        else:\n",
    "            unsorted_successors = [[bestPath(p_node, DG)[0] + DG.nodes[node]['node_value'], p_node]\n",
    "                                   for p_node in DG.successors(node)]\n",
    "            sorted_successors = sorted(unsorted_successors, key=lambda tup: tup[0])\n",
    "            DG.nodes[node]['bestSuccessor'] = sorted_successors[0]\n",
    "            DG.nodes[node]['bestPath'] = [sorted_successors[0][1]] + DG.nodes[sorted_successors[0][1]]['bestPath']\n",
    "            DG.nodes[node]['bestPath_value'] = DG.nodes[node]['node_value'] + DG.nodes[sorted_successors[0][1]]['bestPath_value']\n",
    "    return DG.nodes[node]['bestSuccessor']\n",
    "\n",
    "initPath(DG)\n",
    "allBest = sorted([[bestPath(start_node, DG)[0] + DG.nodes[start_node]['node_value'], start_node]\n",
    "                 for start_node in unique_input_node], \n",
    "                 key=lambda tup: tup[0])\n",
    "[allBest[0][1]] + DG.nodes[allBest[0][1]]['bestPath'], DG.nodes[allBest[0][1]]['bestPath_value']"
   ]
  },
  {
   "cell_type": "code",
   "execution_count": 14,
   "metadata": {},
   "outputs": [
    {
     "name": "stdout",
     "output_type": "stream",
     "text": [
      "32.8 ms ± 2.12 ms per loop (mean ± std. dev. of 10 runs, 10 loops each)\n"
     ]
    }
   ],
   "source": [
    "%%timeit -r 10 -n 10\n",
    "initPath(DG)\n",
    "allBest = sorted([[bestPath(start_node, DG)[0] + DG.nodes[start_node]['node_value'], start_node]\n",
    "                 for start_node in unique_input_node], \n",
    "                 key=lambda tup: tup[0])\n",
    "[allBest[0][1]] + DG.nodes[allBest[0][1]]['bestPath'], DG.nodes[allBest[0][1]]['bestPath_value']"
   ]
  }
 ],
 "metadata": {
  "kernelspec": {
   "display_name": "Python 3",
   "language": "python",
   "name": "python3"
  },
  "language_info": {
   "codemirror_mode": {
    "name": "ipython",
    "version": 3
   },
   "file_extension": ".py",
   "mimetype": "text/x-python",
   "name": "python",
   "nbconvert_exporter": "python",
   "pygments_lexer": "ipython3",
   "version": "3.7.1"
  }
 },
 "nbformat": 4,
 "nbformat_minor": 2
}
