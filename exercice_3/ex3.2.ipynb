{
 "cells": [
  {
   "cell_type": "code",
   "execution_count": 1,
   "metadata": {},
   "outputs": [],
   "source": [
    "import numpy as np\n",
    "import networkx as nx\n",
    "import itertools"
   ]
  },
  {
   "cell_type": "code",
   "execution_count": 2,
   "metadata": {},
   "outputs": [],
   "source": [
    "a=np.load(\"UUU-top1000-5frag-4A.npz\")\n",
    "interactions = [a['interactions-%i'%i] for i in range(4)]"
   ]
  },
  {
   "cell_type": "markdown",
   "metadata": {},
   "source": [
    "# Renomage, pour networkx\n",
    "Sous la forme \"ID_level\" (ex. noeud 3 du niveau 0 : \"3_0\")"
   ]
  },
  {
   "cell_type": "code",
   "execution_count": 3,
   "metadata": {},
   "outputs": [],
   "source": [
    "interactions_nn = []"
   ]
  },
  {
   "cell_type": "code",
   "execution_count": 4,
   "metadata": {
    "scrolled": true
   },
   "outputs": [],
   "source": [
    "for int_level in range(len(interactions)):\n",
    "    curIntLevel = []\n",
    "    for int_pair in range(interactions[int_level].shape[0]):\n",
    "        curIntLevel.append([str(interactions[int_level][int_pair][0]) + \"_\" + str(int_level),\n",
    "                            str(interactions[int_level][int_pair][1]) + \"_\" + str(int_level+1)])\n",
    "\n",
    "    interactions_nn.append(curIntLevel)"
   ]
  },
  {
   "cell_type": "markdown",
   "metadata": {},
   "source": [
    "# Création du graph"
   ]
  },
  {
   "cell_type": "code",
   "execution_count": 5,
   "metadata": {},
   "outputs": [
    {
     "data": {
      "text/plain": [
       "(1312, 7823)"
      ]
     },
     "execution_count": 5,
     "metadata": {},
     "output_type": "execute_result"
    }
   ],
   "source": [
    "DG = nx.DiGraph()\n",
    "for int_level in range(len(interactions_nn)):\n",
    "    for edge in interactions_nn[int_level]:\n",
    "        DG.add_edge(*edge)\n",
    "DG.number_of_nodes(), DG.number_of_edges()"
   ]
  },
  {
   "cell_type": "code",
   "execution_count": 6,
   "metadata": {},
   "outputs": [],
   "source": [
    "unique_input_id = np.unique(interactions[0][:,0])\n",
    "unique_output_id = np.unique(interactions[3][:,1])\n",
    "\n",
    "unique_input_node = [i for i in DG.nodes() if \"_0\" in i]\n",
    "unique_output_node = [i for i in DG.nodes() if \"_4\" in i]"
   ]
  },
  {
   "cell_type": "markdown",
   "metadata": {},
   "source": [
    "# Exploration \"dynamique\""
   ]
  },
  {
   "cell_type": "code",
   "execution_count": 7,
   "metadata": {},
   "outputs": [
    {
     "data": {
      "text/plain": [
       "565507"
      ]
     },
     "execution_count": 7,
     "metadata": {},
     "output_type": "execute_result"
    }
   ],
   "source": [
    "def countPath(node, DG):\n",
    "    if len(list(DG.successors(node))) == 0:\n",
    "        return 1\n",
    "    else:\n",
    "        return sum([countPath(p_node, DG) for p_node in DG.successors(node)])\n",
    "    \n",
    "#print(DG.successors(unique_input_node[0]), len(list(DG.successors(unique_input_node[0]))))\n",
    "sum([countPath(start_node, DG) for start_node in unique_input_node])"
   ]
  }
 ],
 "metadata": {
  "kernelspec": {
   "display_name": "Python 3",
   "language": "python",
   "name": "python3"
  },
  "language_info": {
   "codemirror_mode": {
    "name": "ipython",
    "version": 3
   },
   "file_extension": ".py",
   "mimetype": "text/x-python",
   "name": "python",
   "nbconvert_exporter": "python",
   "pygments_lexer": "ipython3",
   "version": "3.7.1"
  }
 },
 "nbformat": 4,
 "nbformat_minor": 2
}
